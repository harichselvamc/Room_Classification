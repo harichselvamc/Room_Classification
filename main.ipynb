{
 "cells": [
  {
   "cell_type": "code",
   "execution_count": null,
   "metadata": {},
   "outputs": [],
   "source": [
    "!pip install --upgrade numpy tensorflow\n"
   ]
  },
  {
   "cell_type": "code",
   "execution_count": 2,
   "metadata": {},
   "outputs": [
    {
     "name": "stdout",
     "output_type": "stream",
     "text": [
      "\u001b[1m1/1\u001b[0m \u001b[32m━━━━━━━━━━━━━━━━━━━━\u001b[0m\u001b[37m\u001b[0m \u001b[1m2s\u001b[0m 2s/step\n",
      "Image: data/Bedroom/bed_1.jpg, Predicted: bedroom with confidence: 99.77%\n"
     ]
    },
    {
     "name": "stderr",
     "output_type": "stream",
     "text": [
      "C:\\Users\\haric\\AppData\\Local\\Temp\\ipykernel_14224\\1355006656.py:86: DeprecationWarning: `round_` is deprecated as of NumPy 1.25.0, and will be removed in NumPy 2.0. Please use `round` instead.\n",
      "  predict_single_image(image_path)\n"
     ]
    }
   ],
   "source": [
    "import numpy as np\n",
    "import tensorflow as tf\n",
    "import pickle as pkl\n",
    "from PIL import Image\n",
    "from tensorflow.keras.applications.efficientnet import !!!i!!fytmnjh  jhjEfficientNetB0, preprocess_input\n",
    "from tensorflow.keras.layers import Input, Dense, GlobalAveragePooling2D, Dropout\n",
    "from tensorflow.keras.models import Model\n",
    "\n",
    "#### Constants\n",
    "H, W = 224, 224\n",
    "INPUT_SHAPE = (H, W, 3)\n",
    "TARGET_SHAPE = (H, W)\n",
    "NUM_CLASSES = 6\n",
    "\n",
    "# Function to get class names\n",
    "def get_class_names():\n",
    "    with open('./class_list.pkl', 'rb') as f:\n",
    "        class_names = pkl.load(f)\n",
    "    return class_names\n",
    "\n",
    "# Loading class names list\n",
    "class_names = get_class_names()\n",
    "\n",
    "# Function to get model ready\n",
    "def get_model_ready():\n",
    "    # Loading pre-trained EfficientNetB0\n",
    "    efn = EfficientNetB0(include_top=False, weights='imagenet', input_shape=INPUT_SHAPE)\n",
    "\n",
    "    # Making each layer not trainable\n",
    "    for layer in efn.layers:\n",
    "        layer.trainable = False\n",
    "\n",
    "    # Input layer\n",
    "    inputs = Input(shape=INPUT_SHAPE, name='input_shape')\n",
    "    # Passing input layer to EfficientNetB0\n",
    "    x = efn(inputs)\n",
    "    # Global pooling layer\n",
    "    x = GlobalAveragePooling2D(name='global_pooling')(x)\n",
    "    # Dense layer\n",
    "    x = Dense(1024, activation='relu', name='dense_1')(x)\n",
    "    # Dropout layer\n",
    "    x = Dropout(0.5, name='dropout_1')(x)\n",
    "    # Dense layer\n",
    "    x = Dense(64, activation='relu', name='dense_2')(x)\n",
    "    # Dropout layer\n",
    "    x = Dropout(0.5, name='dropout_2')(x)\n",
    "    # Output layer\n",
    "    outputs = Dense(NUM_CLASSES, activation='softmax', name='output')(x)\n",
    "\n",
    "    # Initializing model\n",
    "    efficientNet_model = Model(inputs=inputs, outputs=outputs, name='efficientNet_based_model')\n",
    "\n",
    "    return efficientNet_model\n",
    "\n",
    "# Loading trained model\n",
    "model = get_model_ready()\n",
    "\n",
    "# Loading trained weights\n",
    "model.load_weights('./efficientNetB0_model.h5')\n",
    "\n",
    "# Function to predict class labels on a single image\n",
    "def final_fun_2(image):\n",
    "    # Expanding dimensions to form (1, height, width, channel) format\n",
    "    image = np.expand_dims(image, axis=0)    \n",
    "    # Classifying image\n",
    "    yhats = model.predict(image)\n",
    "    # Returning class names index\n",
    "    return yhats\n",
    "\n",
    "# Function to preprocess and predict a single image\n",
    "def predict_single_image(image_path):\n",
    "    img = Image.open(image_path)\n",
    "    img = img.resize(TARGET_SHAPE)\n",
    "    img = np.array(img)\n",
    "    img = preprocess_input(img)\n",
    "    \n",
    "    yhats = final_fun_2(img)\n",
    "    pred = np.argmax(yhats, axis=1)[0]\n",
    "    conf = np.round_(yhats[0][pred] * 100, 2)\n",
    "    \n",
    "    print(f\"Image: {image_path}, Predicted: {class_names[pred]} with confidence: {conf}%\")\n",
    "\n",
    "# Example usage\n",
    "if __name__ == \"__main__\":\n",
    "    image_path = 'data/Bedroom/bed_1.jpg'  \n",
    "    predict_single_image(image_path)\n"
   ]
  },
  {
   "cell_type": "code",
   "execution_count": null,
   "metadata": {},
   "outputs": [],
   "source": []
  }
 ],
 "metadata": {
  "kernelspec": {
   "display_name": "Python 3",
   "language": "python",
   "name": "python3"
  },
  "language_info": {
   "codemirror_mode": {
    "name": "ipython",
    "version": 3
   },
   "file_extension": ".py",
   "mimetype": "text/x-python",
   "name": "python",
   "nbconvert_exporter": "python",
   "pygments_lexer": "ipython3",
   "version": "3.9.19"
  }
 },
 "nbformat": 4,
 "nbformat_minor": 2
}
